{
 "cells": [
  {
   "cell_type": "code",
   "execution_count": 1,
   "metadata": {},
   "outputs": [],
   "source": [
    "from __future__ import print_function, division\n",
    "\n",
    "%matplotlib inline\n",
    "\n",
    "import numpy as np\n",
    "\n",
    "import brfss\n",
    "import nsfg\n",
    "import thinkstats2\n",
    "import thinkplot"
   ]
  },
  {
   "cell_type": "code",
   "execution_count": 2,
   "metadata": {},
   "outputs": [],
   "source": [
    "resp = nsfg.ReadFemResp()"
   ]
  },
  {
   "cell_type": "markdown",
   "metadata": {},
   "source": [
    "# Q1"
   ]
  },
  {
   "cell_type": "code",
   "execution_count": 3,
   "metadata": {},
   "outputs": [
    {
     "data": {
      "text/plain": [
       "9     2171\n",
       "10    1624\n",
       "12    1171\n",
       "5      806\n",
       "11     553\n",
       "6      450\n",
       "7      415\n",
       "13     295\n",
       "15      92\n",
       "14      34\n",
       "8       32\n",
       "Name: hieduc, dtype: int64"
      ]
     },
     "execution_count": 3,
     "metadata": {},
     "output_type": "execute_result"
    }
   ],
   "source": [
    "resp[\"hieduc\"].value_counts()"
   ]
  },
  {
   "cell_type": "code",
   "execution_count": 4,
   "metadata": {},
   "outputs": [],
   "source": [
    "school = resp[resp[\"hieduc\"].isin([5,6,7,8,9,10])]\n",
    "university = resp[resp[\"hieduc\"].isin([11,12,13,14,15])]\n"
   ]
  },
  {
   "cell_type": "code",
   "execution_count": 5,
   "metadata": {},
   "outputs": [
    {
     "data": {
      "text/plain": [
       "count    5498.000000\n",
       "mean        3.827210\n",
       "std        10.677571\n",
       "min         1.000000\n",
       "25%         2.000000\n",
       "50%         3.000000\n",
       "75%         3.000000\n",
       "max        96.000000\n",
       "Name: agemomb1, dtype: float64"
      ]
     },
     "execution_count": 5,
     "metadata": {},
     "output_type": "execute_result"
    }
   ],
   "source": [
    "school[\"agemomb1\"].describe()"
   ]
  },
  {
   "cell_type": "markdown",
   "metadata": {},
   "source": [
    "# Q2"
   ]
  },
  {
   "cell_type": "code",
   "execution_count": 6,
   "metadata": {},
   "outputs": [],
   "source": [
    "school = school[school[\"agemomb1\"] < 6]\n",
    "university = university[university[\"agemomb1\"] < 6]"
   ]
  },
  {
   "cell_type": "code",
   "execution_count": 7,
   "metadata": {},
   "outputs": [],
   "source": [
    "school_p = school.agemomb1\n",
    "school_p_dropna = school_p.dropna()\n",
    " \n",
    "universit_p = university.agemomb1\n",
    "university_p_dropna = universit_p.dropna()\n",
    "\n",
    "school_pmf = thinkstats2.Pmf(school_p_dropna, label='School')\n",
    "university_pmf = thinkstats2.Pmf(university_p_dropna, label='University')"
   ]
  },
  {
   "cell_type": "code",
   "execution_count": 8,
   "metadata": {},
   "outputs": [
    {
     "data": {
      "image/png": "[encoded data removed]",
      "text/plain": [
       "<Figure size 432x288 with 1 Axes>"
      ]
     },
     "metadata": {},
     "output_type": "display_data"
    }
   ],
   "source": [
    "width = 0.4 / 16\n",
    "\n",
    "# plot PMFs of birth weights for first babies and others\n",
    "thinkplot.PrePlot(2)\n",
    "thinkplot.Hist(school_pmf, align='right', width=width)\n",
    "thinkplot.Hist(university_pmf, align='left', width=width)\n",
    "thinkplot.Config(xlabel='Education Level', ylabel='PMF')"
   ]
  },
  {
   "cell_type": "code",
   "execution_count": 9,
   "metadata": {},
   "outputs": [
    {
     "data": {
      "image/png": "[encoded data removed]",
      "text/plain": [
       "<Figure size 432x288 with 1 Axes>"
      ]
     },
     "metadata": {},
     "output_type": "display_data"
    }
   ],
   "source": [
    "school_cdf = thinkstats2.Cdf(school_p_dropna, label='School')\n",
    "university_cdf = thinkstats2.Cdf(university_p_dropna, label='University')\n",
    "\n",
    "thinkplot.PrePlot(2)\n",
    "thinkplot.Cdfs([school_cdf, university_cdf])\n",
    "thinkplot.Config(xlabel='Weight (pounds)', ylabel='CDF')"
   ]
  },
  {
   "cell_type": "markdown",
   "metadata": {},
   "source": [
    "# Q3"
   ]
  },
  {
   "cell_type": "code",
   "execution_count": 12,
   "metadata": {},
   "outputs": [
    {
     "name": "stdout",
     "output_type": "stream",
     "text": [
      "0.12716445329105003\n",
      "0.05640542173863464\n",
      "-0.0835601457783593\n",
      "-0.07940429084393757\n",
      "-0.020605438407387815\n"
     ]
    },
    {
     "data": {
      "image/png": "[encoded data removed]",
      "text/plain": [
       "<Figure size 432x288 with 1 Axes>"
      ]
     },
     "metadata": {},
     "output_type": "display_data"
    }
   ],
   "source": [
    "levels = range(1,6)\n",
    "diffs = []\n",
    "for level in levels:\n",
    "    p1 = school_pmf.Prob(level)\n",
    "    p2 = university_pmf.Prob(level)\n",
    "    diff = (p1 - p2)\n",
    "    print(diff)\n",
    "    diffs.append(diff)\n",
    "\n",
    "thinkplot.Bar(levels, diffs, label=\"Differences of Pmf(School - University)\")\n",
    "thinkplot.Config(xlabel='Pregnancy length(levels)', ylabel='Difference (percentage points)')"
   ]
  },
  {
   "cell_type": "markdown",
   "metadata": {},
   "source": [
    "# Q4"
   ]
  },
  {
   "cell_type": "code",
   "execution_count": 16,
   "metadata": {},
   "outputs": [
    {
     "name": "stdout",
     "output_type": "stream",
     "text": [
      "Probabilty of Women who is younger than 18 is in school dataframe 0.2123110947290822\n",
      "Probabilty of Women who is younger than 18 is in university dataframe 0.08514664143803216\n"
     ]
    }
   ],
   "source": [
    "school_cdf = thinkstats2.Cdf(school_p_dropna, label='school')\n",
    "university_cdf = thinkstats2.Cdf(university_p_dropna, label='university')\n",
    "print(\"Probabilty of Women who is younger than 18 is in school dataframe \", school_cdf.Prob(1))\n",
    "print(\"Probabilty of Women who is younger than 18 is in university dataframe \", university_cdf.Prob(1))\n"
   ]
  },
  {
   "cell_type": "code",
   "execution_count": 22,
   "metadata": {},
   "outputs": [
    {
     "name": "stdout",
     "output_type": "stream",
     "text": [
      "Percentile of Women who is younger than 18 is in school dataframe 21.23110947290822\n",
      "Percentile of Women who not younger than 18 is in school dataframe 78.76889052709178\n",
      "Probabilty of Women who is younger than 18 is in university dataframe 8.514664143803216\n",
      "Percentile of Women who not younger than 18 is in university dataframe 91.48533585619678\n"
     ]
    }
   ],
   "source": [
    "print(\"Percentile of Women who is younger than 18 is in school dataframe\", school_cdf.PercentileRank(1))\n",
    "print(\"Percentile of Women who not younger than 18 is in school dataframe\", (100-school_cdf.PercentileRank(1)))\n",
    "print(\"Probabilty of Women who is younger than 18 is in university dataframe\", university_cdf.PercentileRank(1))\n",
    "print(\"Percentile of Women who not younger than 18 is in university dataframe\", (100-university_cdf.PercentileRank(1)))"
   ]
  },
  {
   "cell_type": "code",
   "execution_count": null,
   "metadata": {},
   "outputs": [],
   "source": []
  },
  {
   "cell_type": "code",
   "execution_count": 21,
   "metadata": {},
   "outputs": [
    {
     "data": {
      "text/plain": [
       "0        6\n",
       "1       10\n",
       "2        9\n",
       "3        5\n",
       "4        6\n",
       "5        5\n",
       "6        6\n",
       "7        9\n",
       "8        9\n",
       "9       10\n",
       "10       9\n",
       "11       9\n",
       "12       9\n",
       "13       5\n",
       "14       9\n",
       "15       9\n",
       "16       6\n",
       "17       9\n",
       "18       6\n",
       "19       6\n",
       "20      10\n",
       "21       6\n",
       "23      10\n",
       "24       9\n",
       "25       9\n",
       "26      10\n",
       "27      10\n",
       "28       9\n",
       "29       9\n",
       "30      10\n",
       "        ..\n",
       "7600    10\n",
       "7602    10\n",
       "7608    10\n",
       "7609     5\n",
       "7610     9\n",
       "7611     5\n",
       "7612     9\n",
       "7613     7\n",
       "7615     5\n",
       "7616    10\n",
       "7620     9\n",
       "7621     9\n",
       "7622     7\n",
       "7623     9\n",
       "7624    10\n",
       "7625    10\n",
       "7626    10\n",
       "7627    10\n",
       "7628     7\n",
       "7630     9\n",
       "7631    10\n",
       "7632     9\n",
       "7633    10\n",
       "7634     9\n",
       "7635     9\n",
       "7636     7\n",
       "7637     9\n",
       "7639     7\n",
       "7641     6\n",
       "7642    10\n",
       "Name: hieduc, Length: 5498, dtype: int64"
      ]
     },
     "execution_count": 21,
     "metadata": {},
     "output_type": "execute_result"
    }
   ],
   "source": [
    "education_degree = resp['hieduc']\n",
    "school = education_degree[education_degree < 11]\n",
    "university = education_degree[education_degree >= 11]\n",
    "school"
   ]
  },
  {
   "cell_type": "code",
   "execution_count": null,
   "metadata": {},
   "outputs": [],
   "source": []
  }
 ],
 "metadata": {
  "kernelspec": {
   "display_name": "Python 3",
   "language": "python",
   "name": "python3"
  },
  "language_info": {
   "codemirror_mode": {
    "name": "ipython",
    "version": 3
   },
   "file_extension": ".py",
   "mimetype": "text/x-python",
   "name": "python",
   "nbconvert_exporter": "python",
   "pygments_lexer": "ipython3",
   "version": "3.6.5"
  }
 },
 "nbformat": 4,
 "nbformat_minor": 2
}
