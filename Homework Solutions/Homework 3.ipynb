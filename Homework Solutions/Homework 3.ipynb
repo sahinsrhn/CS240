{
 "cells": [
  {
   "cell_type": "markdown",
   "metadata": {},
   "source": [
    "## Homework 3 (Due Date 08.05.2018 23:59)"
   ]
  },
  {
   "cell_type": "markdown",
   "metadata": {},
   "source": [
    "- Read NSFG respondent data with .ReadFemResp() function that provided by nsfg.py and create a dataframe then assign it a variable that called resp."
   ]
  },
  {
   "cell_type": "markdown",
   "metadata": {},
   "source": [
    "- Find the mean and standart deviation for timesmar and jintendn variables from <b>resp</b> dataframe seperatly after drop the none values and inapplicable responds(1 pts).\n",
    "- Plot Normalized Probability Density Functions for timesmar and jintendn variables from <b>resp</b> dataframe seperatly with using mean and standard deviation that you find above(1 pts).\n",
    "- Explain the output of your results in a markdown cell(1 pts)."
   ]
  },
  {
   "cell_type": "markdown",
   "metadata": {},
   "source": [
    "- Plot Probability Density Functions for timesmar and jintendn variables from <b>resp</b> dataframe seperatly(1 pts).\n",
    "- Then Find skewnesses and Pearson median skewness for timesmar and jintendn variables from <b>resp</b> dataframe seperatly(1 pts).\n",
    "- Explain the output of your results in a markdown cell(1 pts)."
   ]
  },
  {
   "cell_type": "markdown",
   "metadata": {},
   "source": [
    "- Draw a Scatter plot with using timesmar and jintendn variables from <b>resp</b> dataframe and specify Jitter(Use alpha=0.01, s=2)-->(1 pts).\n",
    "- Plot Percentiles with using timesmar and jintendn variables from <b>resp</b> dataframe(Use Colors = [\"black\",\"blue\",\"yellow\"], Percent = [25, 50, 75])-->(1 pts).\n",
    "- Explain the output of your results in a markdown cell(1 pts)."
   ]
  },
  {
   "cell_type": "markdown",
   "metadata": {},
   "source": [
    "- Find Pearson Correlation and Spearman Correlation of timesmar and jintendn variables from <b>resp</b> dataframe with using Scipy Module(1 pts).\n",
    "- Explain the difference bewteen Pearson Correlation and Spearman Correlation in a markdown cell according the results that you find above(1 pts).\n",
    "- Comment about timesmar and jintendn variables from <b>resp</b> dataframe based on all your works done above(2 pts)."
   ]
  },
  {
   "cell_type": "markdown",
   "metadata": {},
   "source": [
    "- References\n",
    "- - timesmar variable from resp dataframe -> https://www.icpsr.umich.edu/nsfg6/Controller?displayPage=labelDetails&fileCode=FEM&section=C&subSec=7825&srtLabel=604722# <br/>\n",
    "- - timesmar variable from jintendn dataframe -> https://www.icpsr.umich.edu/nsfg6/Controller?displayPage=labelDetails&fileCode=FEM&section=G&subSec=7852&srtLabel=606634#  <br/>\n",
    "- - Pearson and Spearman Correlation functions from Scipy -> https://docs.scipy.org/doc/scipy-0.14.0/reference/stats.html "
   ]
  },
  {
   "cell_type": "markdown",
   "metadata": {},
   "source": [
    "##### Note that: Total of points is 13 but maximum points that can be get 10 points (3 points bonus). Do not forget the give the name to your visuals labels(visuals's label, x-axis and y-axis label). Your answers/codes must be uploaded to your github accounts inside a folder that called Homework3_YourNameSurname. The due date is the end of the next Friday(08.05.2018 23:59).<u> And you have to send me link of your github account via email again</u>."
   ]
  },
  {
   "cell_type": "markdown",
   "metadata": {},
   "source": [
    "##### The Office Hour is 03.05.2018 Thursday between 16:00 - 18:00"
   ]
  },
  {
   "cell_type": "markdown",
   "metadata": {},
   "source": [
    "## ANY LATE UPLOAD TO GITHUB EVEN INCLUDING 1 MINUTE WILL NOT BE ACCEPTED AND HOMEWORKS HAVE TO BE UPLOADED TO ONLY GITHUB. JUST SEND ME YOUR GITHUB ACCOUNT LINK VIA EMAIL. FOR OTHER OPTIONS YOU HAVE TO TALK WITH ME."
   ]
  },
  {
   "cell_type": "code",
   "execution_count": 1,
   "metadata": {},
   "outputs": [],
   "source": [
    "%matplotlib inline\n",
    "\n",
    "import numpy as np\n",
    "\n",
    "import brfss\n",
    "import nsfg\n",
    "import thinkstats2\n",
    "import thinkplot"
   ]
  },
  {
   "cell_type": "markdown",
   "metadata": {},
   "source": [
    "Find the mean and standart deviation for timesmar and jintendn variables from resp dataframe seperatly after drop the none values and inapplicable responds(1 pts)."
   ]
  },
  {
   "cell_type": "code",
   "execution_count": 2,
   "metadata": {},
   "outputs": [],
   "source": [
    "resp = nsfg.ReadFemResp()"
   ]
  },
  {
   "cell_type": "code",
   "execution_count": 3,
   "metadata": {},
   "outputs": [],
   "source": [
    "resp = resp[~resp.timesmar.isin([99,98])]"
   ]
  },
  {
   "cell_type": "code",
   "execution_count": 4,
   "metadata": {},
   "outputs": [],
   "source": [
    "resp = resp[~resp.jintendn.isin([99])]"
   ]
  },
  {
   "cell_type": "code",
   "execution_count": 5,
   "metadata": {},
   "outputs": [],
   "source": [
    "resp.dropna(axis=0,subset=['timesmar', 'jintendn'],inplace=True)"
   ]
  },
  {
   "cell_type": "code",
   "execution_count": 6,
   "metadata": {
    "scrolled": true
   },
   "outputs": [
    {
     "data": {
      "text/html": [
       "<div>\n",
       "<style scoped>\n",
       "    .dataframe tbody tr th:only-of-type {\n",
       "        vertical-align: middle;\n",
       "    }\n",
       "\n",
       "    .dataframe tbody tr th {\n",
       "        vertical-align: top;\n",
       "    }\n",
       "\n",
       "    .dataframe thead th {\n",
       "        text-align: right;\n",
       "    }\n",
       "</style>\n",
       "<table border=\"1\" class=\"dataframe\">\n",
       "  <thead>\n",
       "    <tr style=\"text-align: right;\">\n",
       "      <th></th>\n",
       "      <th>caseid</th>\n",
       "      <th>rscrinf</th>\n",
       "      <th>rdormres</th>\n",
       "      <th>rostscrn</th>\n",
       "      <th>rscreenhisp</th>\n",
       "      <th>rscreenrace</th>\n",
       "      <th>age_a</th>\n",
       "      <th>age_r</th>\n",
       "      <th>cmbirth</th>\n",
       "      <th>agescrn</th>\n",
       "      <th>...</th>\n",
       "      <th>pubassis_i</th>\n",
       "      <th>basewgt</th>\n",
       "      <th>adj_mod_basewgt</th>\n",
       "      <th>finalwgt</th>\n",
       "      <th>secu_r</th>\n",
       "      <th>sest</th>\n",
       "      <th>cmintvw</th>\n",
       "      <th>cmlstyr</th>\n",
       "      <th>screentime</th>\n",
       "      <th>intvlngth</th>\n",
       "    </tr>\n",
       "  </thead>\n",
       "  <tbody>\n",
       "    <tr>\n",
       "      <th>11</th>\n",
       "      <td>9200</td>\n",
       "      <td>5</td>\n",
       "      <td>5</td>\n",
       "      <td>3</td>\n",
       "      <td>1</td>\n",
       "      <td>5.0</td>\n",
       "      <td>26</td>\n",
       "      <td>26</td>\n",
       "      <td>923</td>\n",
       "      <td>26</td>\n",
       "      <td>...</td>\n",
       "      <td>0</td>\n",
       "      <td>2418.624283</td>\n",
       "      <td>2754.293339</td>\n",
       "      <td>2987.031126</td>\n",
       "      <td>2</td>\n",
       "      <td>18</td>\n",
       "      <td>1237</td>\n",
       "      <td>1225</td>\n",
       "      <td>14:12:31</td>\n",
       "      <td>61.060667</td>\n",
       "    </tr>\n",
       "    <tr>\n",
       "      <th>12</th>\n",
       "      <td>6320</td>\n",
       "      <td>5</td>\n",
       "      <td>5</td>\n",
       "      <td>5</td>\n",
       "      <td>5</td>\n",
       "      <td>1.0</td>\n",
       "      <td>23</td>\n",
       "      <td>23</td>\n",
       "      <td>952</td>\n",
       "      <td>23</td>\n",
       "      <td>...</td>\n",
       "      <td>0</td>\n",
       "      <td>5497.225851</td>\n",
       "      <td>6448.332868</td>\n",
       "      <td>7241.477811</td>\n",
       "      <td>1</td>\n",
       "      <td>18</td>\n",
       "      <td>1236</td>\n",
       "      <td>1224</td>\n",
       "      <td>14:27:20</td>\n",
       "      <td>69.906500</td>\n",
       "    </tr>\n",
       "    <tr>\n",
       "      <th>13</th>\n",
       "      <td>11700</td>\n",
       "      <td>1</td>\n",
       "      <td>5</td>\n",
       "      <td>4</td>\n",
       "      <td>1</td>\n",
       "      <td>5.0</td>\n",
       "      <td>34</td>\n",
       "      <td>34</td>\n",
       "      <td>822</td>\n",
       "      <td>34</td>\n",
       "      <td>...</td>\n",
       "      <td>0</td>\n",
       "      <td>3362.448309</td>\n",
       "      <td>3677.062170</td>\n",
       "      <td>4666.559600</td>\n",
       "      <td>1</td>\n",
       "      <td>18</td>\n",
       "      <td>1236</td>\n",
       "      <td>1224</td>\n",
       "      <td>11:35:31</td>\n",
       "      <td>77.493333</td>\n",
       "    </tr>\n",
       "    <tr>\n",
       "      <th>29</th>\n",
       "      <td>5656</td>\n",
       "      <td>5</td>\n",
       "      <td>5</td>\n",
       "      <td>3</td>\n",
       "      <td>5</td>\n",
       "      <td>5.0</td>\n",
       "      <td>26</td>\n",
       "      <td>26</td>\n",
       "      <td>921</td>\n",
       "      <td>26</td>\n",
       "      <td>...</td>\n",
       "      <td>0</td>\n",
       "      <td>4170.041867</td>\n",
       "      <td>6582.846660</td>\n",
       "      <td>7139.097203</td>\n",
       "      <td>2</td>\n",
       "      <td>18</td>\n",
       "      <td>1238</td>\n",
       "      <td>1226</td>\n",
       "      <td>11:20:54</td>\n",
       "      <td>61.501000</td>\n",
       "    </tr>\n",
       "    <tr>\n",
       "      <th>43</th>\n",
       "      <td>7011</td>\n",
       "      <td>1</td>\n",
       "      <td>5</td>\n",
       "      <td>3</td>\n",
       "      <td>1</td>\n",
       "      <td>5.0</td>\n",
       "      <td>34</td>\n",
       "      <td>34</td>\n",
       "      <td>815</td>\n",
       "      <td>34</td>\n",
       "      <td>...</td>\n",
       "      <td>0</td>\n",
       "      <td>3363.355288</td>\n",
       "      <td>3782.074549</td>\n",
       "      <td>4799.830810</td>\n",
       "      <td>2</td>\n",
       "      <td>83</td>\n",
       "      <td>1233</td>\n",
       "      <td>1221</td>\n",
       "      <td>13:26:28</td>\n",
       "      <td>94.169833</td>\n",
       "    </tr>\n",
       "  </tbody>\n",
       "</table>\n",
       "<p>5 rows × 3087 columns</p>\n",
       "</div>"
      ],
      "text/plain": [
       "    caseid  rscrinf  rdormres  rostscrn  rscreenhisp  rscreenrace  age_a  \\\n",
       "11    9200        5         5         3            1          5.0     26   \n",
       "12    6320        5         5         5            5          1.0     23   \n",
       "13   11700        1         5         4            1          5.0     34   \n",
       "29    5656        5         5         3            5          5.0     26   \n",
       "43    7011        1         5         3            1          5.0     34   \n",
       "\n",
       "    age_r  cmbirth  agescrn    ...      pubassis_i      basewgt  \\\n",
       "11     26      923       26    ...               0  2418.624283   \n",
       "12     23      952       23    ...               0  5497.225851   \n",
       "13     34      822       34    ...               0  3362.448309   \n",
       "29     26      921       26    ...               0  4170.041867   \n",
       "43     34      815       34    ...               0  3363.355288   \n",
       "\n",
       "    adj_mod_basewgt     finalwgt  secu_r  sest  cmintvw  cmlstyr  screentime  \\\n",
       "11      2754.293339  2987.031126       2    18     1237     1225    14:12:31   \n",
       "12      6448.332868  7241.477811       1    18     1236     1224    14:27:20   \n",
       "13      3677.062170  4666.559600       1    18     1236     1224    11:35:31   \n",
       "29      6582.846660  7139.097203       2    18     1238     1226    11:20:54   \n",
       "43      3782.074549  4799.830810       2    83     1233     1221    13:26:28   \n",
       "\n",
       "    intvlngth  \n",
       "11  61.060667  \n",
       "12  69.906500  \n",
       "13  77.493333  \n",
       "29  61.501000  \n",
       "43  94.169833  \n",
       "\n",
       "[5 rows x 3087 columns]"
      ]
     },
     "execution_count": 6,
     "metadata": {},
     "output_type": "execute_result"
    }
   ],
   "source": [
    "resp.head()"
   ]
  },
  {
   "cell_type": "code",
   "execution_count": 7,
   "metadata": {},
   "outputs": [
    {
     "data": {
      "text/plain": [
       "count    1063.000000\n",
       "mean        1.715898\n",
       "std         1.089326\n",
       "min         0.000000\n",
       "25%         1.000000\n",
       "50%         1.000000\n",
       "75%         2.000000\n",
       "max        12.000000\n",
       "Name: jintendn, dtype: float64"
      ]
     },
     "execution_count": 7,
     "metadata": {},
     "output_type": "execute_result"
    }
   ],
   "source": [
    "resp.jintendn.describe()"
   ]
  },
  {
   "cell_type": "code",
   "execution_count": 8,
   "metadata": {},
   "outputs": [
    {
     "data": {
      "text/plain": [
       "count    1063.000000\n",
       "mean        1.087488\n",
       "std         0.323096\n",
       "min         1.000000\n",
       "25%         1.000000\n",
       "50%         1.000000\n",
       "75%         1.000000\n",
       "max         4.000000\n",
       "Name: timesmar, dtype: float64"
      ]
     },
     "execution_count": 8,
     "metadata": {},
     "output_type": "execute_result"
    }
   ],
   "source": [
    "resp.timesmar.describe()"
   ]
  },
  {
   "cell_type": "markdown",
   "metadata": {},
   "source": [
    "Plot Normalized Probability Density Functions for timesmar and jintendn variables from resp dataframe seperatly with using mean and standard deviation that you find above(1 pts)."
   ]
  },
  {
   "cell_type": "code",
   "execution_count": 9,
   "metadata": {},
   "outputs": [
    {
     "data": {
      "image/png": "[encoded data removed]",
      "text/plain": [
       "<Figure size 432x288 with 1 Axes>"
      ]
     },
     "metadata": {},
     "output_type": "display_data"
    }
   ],
   "source": [
    "mean, std = resp[\"timesmar\"].mean(), resp[\"timesmar\"].std()\n",
    "mean, std\n",
    "pdf = thinkstats2.NormalPdf(mean, std)\n",
    "pdf.Density(mean + std)\n",
    "thinkplot.Pdf(pdf, label='normal')\n",
    "thinkplot.Config(xlabel='x', ylabel='PDF')"
   ]
  },
  {
   "cell_type": "code",
   "execution_count": 10,
   "metadata": {},
   "outputs": [
    {
     "data": {
      "image/png": "[encoded data removed]",
      "text/plain": [
       "<Figure size 432x288 with 1 Axes>"
      ]
     },
     "metadata": {},
     "output_type": "display_data"
    }
   ],
   "source": [
    "mean1, std1 = resp[\"jintendn\"].mean(), resp[\"jintendn\"].std()\n",
    "mean1, std1\n",
    "pdf1 = thinkstats2.NormalPdf(mean1, std1)\n",
    "pdf1.Density(mean1 + std1)\n",
    "thinkplot.Pdf(pdf1, label='normal')\n",
    "thinkplot.Config(xlabel='x', ylabel='PDF')"
   ]
  },
  {
   "cell_type": "markdown",
   "metadata": {},
   "source": [
    "Plot Probability Density Functions for timesmar and jintendn variables from resp dataframe seperatly(1 pts).\n",
    "## Since i didn t mention Kernel Density Estimation (KDE) over pdf, i add everyone 1 point plus. "
   ]
  },
  {
   "cell_type": "code",
   "execution_count": 25,
   "metadata": {},
   "outputs": [
    {
     "data": {
      "image/png": "[encoded data removed]",
      "text/plain": [
       "<Figure size 432x288 with 1 Axes>"
      ]
     },
     "metadata": {},
     "output_type": "display_data"
    }
   ],
   "source": [
    "thinkplot.Pdf(pdf, label='normal')\n",
    "\n",
    "sample = np.random.normal(mean, std, 500)\n",
    "sample_pdf = thinkstats2.EstimatedPdf(sample, label='sample')\n",
    "thinkplot.Pdf(sample_pdf, label='sample KDE')\n",
    "thinkplot.Config(xlabel='x', ylabel='PDF')"
   ]
  },
  {
   "cell_type": "code",
   "execution_count": 26,
   "metadata": {},
   "outputs": [
    {
     "data": {
      "image/png": "[encoded data removed]",
      "text/plain": [
       "<Figure size 432x288 with 1 Axes>"
      ]
     },
     "metadata": {},
     "output_type": "display_data"
    }
   ],
   "source": [
    "thinkplot.Pdf(pdf1, label='normal')\n",
    "\n",
    "sample1 = np.random.normal(mean1, std1, 500)\n",
    "sample_pdf1 = thinkstats2.EstimatedPdf(sample1, label='sample')\n",
    "thinkplot.Pdf(sample_pdf1, label='sample KDE')\n",
    "thinkplot.Config(xlabel='x', ylabel='PDF')"
   ]
  },
  {
   "cell_type": "markdown",
   "metadata": {},
   "source": [
    "Then Find skewnesses and Pearson median skewness for timesmar and jintendn variables from resp dataframe seperatly(1 pts)."
   ]
  },
  {
   "cell_type": "code",
   "execution_count": 13,
   "metadata": {},
   "outputs": [],
   "source": [
    "def RawMoment(xs, k):\n",
    "    return sum(x**k for x in xs) / len(xs)\n",
    "def Mean(xs):\n",
    "    return RawMoment(xs, 1)\n",
    "def CentralMoment(xs, k):\n",
    "    mean = RawMoment(xs, 1)\n",
    "    sum_list = [(x - mean)**k for x in xs]\n",
    "    return sum(sum_list) / len(sum_list)\n",
    "def Var(xs):\n",
    "    return CentralMoment(xs, 2)\n",
    "def StandardizedMoment(xs, k):\n",
    "    var = CentralMoment(xs, 2)\n",
    "    std = np.sqrt(var)\n",
    "    return CentralMoment(xs, k) / std**k\n",
    "def Skewness(xs):\n",
    "    return StandardizedMoment(xs, 3)\n",
    "def Median(xs):\n",
    "    cdf = thinkstats2.Cdf(xs)\n",
    "    return cdf.Value(0.5)\n",
    "def PearsonMedianSkewness(xs):\n",
    "    median = Median(xs)\n",
    "    mean = RawMoment(xs, 1)\n",
    "    var = CentralMoment(xs, 2)\n",
    "    std = np.sqrt(var)\n",
    "    gp = 3 * (mean - median) / std\n",
    "    return gp"
   ]
  },
  {
   "cell_type": "code",
   "execution_count": 14,
   "metadata": {},
   "outputs": [
    {
     "data": {
      "text/plain": [
       "(4.278728121730772, 0.8127240191320617)"
      ]
     },
     "execution_count": 14,
     "metadata": {},
     "output_type": "execute_result"
    }
   ],
   "source": [
    "Skewness(resp.timesmar), PearsonMedianSkewness(resp.timesmar)"
   ]
  },
  {
   "cell_type": "code",
   "execution_count": 15,
   "metadata": {},
   "outputs": [
    {
     "data": {
      "text/plain": [
       "(3.037955843696287, 1.9725104588545124)"
      ]
     },
     "execution_count": 15,
     "metadata": {},
     "output_type": "execute_result"
    }
   ],
   "source": [
    "Skewness(resp.jintendn), PearsonMedianSkewness(resp.jintendn)"
   ]
  },
  {
   "cell_type": "markdown",
   "metadata": {},
   "source": [
    "Draw a Scatter plot with using timesmar and jintendn variables from resp dataframe and specify Jitter(Use alpha=0.01, s=2)-->(1 pts)."
   ]
  },
  {
   "cell_type": "code",
   "execution_count": 16,
   "metadata": {},
   "outputs": [],
   "source": [
    "def Jitter(values, jitter=0.5):\n",
    "    n = len(values)\n",
    "    return np.random.normal(0, jitter, n) + values\n",
    "jintendn = resp.jintendn\n",
    "timesmar = resp.timesmar"
   ]
  },
  {
   "cell_type": "code",
   "execution_count": 17,
   "metadata": {},
   "outputs": [
    {
     "data": {
      "image/png": "[encoded data removed]",
      "text/plain": [
       "<Figure size 432x288 with 1 Axes>"
      ]
     },
     "metadata": {},
     "output_type": "display_data"
    }
   ],
   "source": [
    "thinkplot.Scatter(Jitter(timesmar),Jitter(jintendn), color='black')\n",
    "thinkplot.Config(xlabel='jintendn',\n",
    "                 ylabel='timesmar')"
   ]
  },
  {
   "cell_type": "markdown",
   "metadata": {},
   "source": [
    "Plot Percentiles with using timesmar and jintendn variables from resp dataframe(Use Colors = [\"black\",\"blue\",\"yellow\"], Percent = [25, 50, 75])-->(1 pts)."
   ]
  },
  {
   "cell_type": "code",
   "execution_count": 18,
   "metadata": {},
   "outputs": [
    {
     "data": {
      "text/plain": [
       "1.0     568\n",
       "2.0     333\n",
       "3.0      92\n",
       "4.0      43\n",
       "5.0      14\n",
       "6.0       5\n",
       "0.0       4\n",
       "10.0      3\n",
       "12.0      1\n",
       "Name: jintendn, dtype: int64"
      ]
     },
     "execution_count": 18,
     "metadata": {},
     "output_type": "execute_result"
    }
   ],
   "source": [
    "resp.jintendn.value_counts()"
   ]
  },
  {
   "cell_type": "code",
   "execution_count": 19,
   "metadata": {},
   "outputs": [
    {
     "name": "stdout",
     "output_type": "stream",
     "text": [
      "2 981\n",
      "3 73\n",
      "4 7\n",
      "5 2\n"
     ]
    }
   ],
   "source": [
    "bins = np.arange(0, 15, 1)\n",
    "indices = np.digitize(resp.timesmar, bins)\n",
    "groups = resp.groupby(indices)\n",
    "\n",
    "for i, group in groups:\n",
    "    print(i, len(group))\n"
   ]
  },
  {
   "cell_type": "code",
   "execution_count": 20,
   "metadata": {},
   "outputs": [
    {
     "data": {
      "text/plain": [
       "[1.0, 2.0, 3.0, 4.0]"
      ]
     },
     "execution_count": 20,
     "metadata": {},
     "output_type": "execute_result"
    }
   ],
   "source": [
    "mean_timesmar = [group.timesmar.mean() for i, group in groups]\n",
    "cdfs = [thinkstats2.Cdf(group.jintendn) for i, group in groups]\n",
    "mean_timesmar"
   ]
  },
  {
   "cell_type": "code",
   "execution_count": 21,
   "metadata": {},
   "outputs": [
    {
     "data": {
      "text/plain": [
       "[Cdf([ 0.  1.  2.  3.  4.  5.  6. 10. 12.], [0.0030581  0.52803262 0.84607543 0.93272171 0.97655454 0.99082569\n",
       "  0.99592253 0.99898063 1.        ]),\n",
       " Cdf([0. 1. 2. 3.], [0.01369863 0.63013699 0.90410959 1.        ]),\n",
       " Cdf([1. 2.], [0.85714286 1.        ]),\n",
       " Cdf([1.], [1.])]"
      ]
     },
     "execution_count": 21,
     "metadata": {},
     "output_type": "execute_result"
    }
   ],
   "source": [
    "cdfs"
   ]
  },
  {
   "cell_type": "code",
   "execution_count": 22,
   "metadata": {},
   "outputs": [
    {
     "data": {
      "image/png": "[encoded data removed]",
      "text/plain": [
       "<Figure size 432x288 with 1 Axes>"
      ]
     },
     "metadata": {},
     "output_type": "display_data"
    }
   ],
   "source": [
    "CustomColors = [\"black\",\"blue\",\"yellow\"]\n",
    "percent = [25, 50, 75]\n",
    "for i in range(len(percent)):\n",
    "    jintendn_percentiles = [cdf.Percentile(percent[i]) for cdf in cdfs]\n",
    "    label = '%dth' % percent[i]\n",
    "    thinkplot.Plot(mean_timesmar, jintendn_percentiles, label=label,color=CustomColors[i])\n",
    "    \n",
    "thinkplot.Config(xlabel='timesmar_percentiles',\n",
    "                 ylabel='mean_jintendn',\n",
    "                 legend=True)"
   ]
  },
  {
   "cell_type": "markdown",
   "metadata": {},
   "source": [
    "#Find Pearson Correlation and Spearman Correlation of timesmar and jintendn variables from resp dataframe with using Scipy Module(1 pts)."
   ]
  },
  {
   "cell_type": "code",
   "execution_count": 23,
   "metadata": {},
   "outputs": [
    {
     "name": "stdout",
     "output_type": "stream",
     "text": [
      "SpearmanrResult(correlation=-0.07927668661722838, pvalue=0.009716984971310738)\n"
     ]
    }
   ],
   "source": [
    "import numpy as np\n",
    "import scipy.stats\n",
    "\n",
    "print(scipy.stats.spearmanr(jintendn, timesmar))"
   ]
  },
  {
   "cell_type": "code",
   "execution_count": 24,
   "metadata": {},
   "outputs": [
    {
     "name": "stdout",
     "output_type": "stream",
     "text": [
      "(-0.08448464069844054, 0.005847753442709886)\n"
     ]
    }
   ],
   "source": [
    "print(scipy.stats.pearsonr(jintendn, timesmar))"
   ]
  },
  {
   "cell_type": "code",
   "execution_count": null,
   "metadata": {},
   "outputs": [],
   "source": []
  }
 ],
 "metadata": {
  "kernelspec": {
   "display_name": "Python 3",
   "language": "python",
   "name": "python3"
  },
  "language_info": {
   "codemirror_mode": {
    "name": "ipython",
    "version": 3
   },
   "file_extension": ".py",
   "mimetype": "text/x-python",
   "name": "python",
   "nbconvert_exporter": "python",
   "pygments_lexer": "ipython3",
   "version": "3.6.4"
  }
 },
 "nbformat": 4,
 "nbformat_minor": 2
}
