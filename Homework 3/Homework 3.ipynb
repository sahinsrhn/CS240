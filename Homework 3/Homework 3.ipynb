{
 "cells": [
  {
   "cell_type": "markdown",
   "metadata": {},
   "source": [
    "## Homework 3 (Due Date 08.05.2018 23:59)"
   ]
  },
  {
   "cell_type": "markdown",
   "metadata": {},
   "source": [
    "- Read NSFG respondent data with .ReadFemResp() function that provided by nsfg.py and create a dataframe then assign it a variable that called resp."
   ]
  },
  {
   "attachments": {},
   "cell_type": "markdown",
   "metadata": {},
   "source": [
    "- Find the mean and standart deviation for timesmar and jintendn variables from <b>resp</b> dataframe seperatly after drop the none values and inapplicable responds(1 pts).\n",
    "- Plot Normalized Probability Density Functions for timesmar and jintendn variables from <b>resp</b> dataframe seperatly with using mean and standard deviation that you find above(1 pts).\n",
    "- Explain the output of your results in a markdown cell(1 pts)."
   ]
  },
  {
   "cell_type": "markdown",
   "metadata": {},
   "source": [
    "- Plot Probability Density Functions for timesmar and jintendn variables from <b>resp</b> dataframe seperatly(1 pts).\n",
    "- Then Find skewnesses and Pearson median skewness for timesmar and jintendn variables from <b>resp</b> dataframe seperatly(1 pts).\n",
    "- Explain the output of your results in a markdown cell(1 pts)."
   ]
  },
  {
   "cell_type": "markdown",
   "metadata": {},
   "source": [
    "- Draw a Scatter plot with using timesmar and jintendn variables from <b>resp</b> dataframe and specify Jitter(Use alpha=0.01, s=2)-->(1 pts).\n",
    "- Plot Percentiles with using timesmar and jintendn variables from <b>resp</b> dataframe(Use Colors = [\"black\",\"blue\",\"yellow\"], Percent = [25, 50, 75])-->(1 pts).\n",
    "- Explain the output of your results in a markdown cell(1 pts)."
   ]
  },
  {
   "cell_type": "markdown",
   "metadata": {},
   "source": [
    "- Find Pearson Correlation and Spearman Correlation of timesmar and jintendn variables from <b>resp</b> dataframe with using Scipy Module(1 pts).\n",
    "- Explain the difference bewteen Pearson Correlation and Spearman Correlation in a markdown cell according the results that you find above(1 pts).\n",
    "- Comment about timesmar and jintendn variables from <b>resp</b> dataframe based on all your works done above(2 pts)."
   ]
  },
  {
   "cell_type": "markdown",
   "metadata": {},
   "source": [
    "- References\n",
    "- - timesmar variable from resp dataframe -> https://www.icpsr.umich.edu/nsfg6/Controller?displayPage=labelDetails&fileCode=FEM&section=C&subSec=7825&srtLabel=604722# <br/>\n",
    "- - timesmar variable from jintendn dataframe -> https://www.icpsr.umich.edu/nsfg6/Controller?displayPage=labelDetails&fileCode=FEM&section=G&subSec=7852&srtLabel=606634#  <br/>\n",
    "- - Pearson and Spearman Correlation functions from Scipy -> https://docs.scipy.org/doc/scipy-0.14.0/reference/stats.html "
   ]
  },
  {
   "cell_type": "markdown",
   "metadata": {},
   "source": [
    "##### Note that: Total of points is 13 but maximum points that can be get 10 points (3 points bonus). Do not forget the give the name to your visuals labels(visuals's label, x-axis and y-axis label). Your answers/codes must be uploaded to your github accounts inside a folder that called Homework3_YourNameSurname. The due date is the end of the next Tuesday(08.05.2018 23:59).<u> And you have to send me link of your github account via email again</u>."
   ]
  },
  {
   "cell_type": "markdown",
   "metadata": {},
   "source": [
    "##### The Office Hour is 03.05.2018 Thursday between 16:00 - 18:00"
   ]
  },
  {
   "cell_type": "markdown",
   "metadata": {},
   "source": [
    "## ANY LATE UPLOAD TO GITHUB EVEN INCLUDING 1 MINUTE WILL NOT BE ACCEPTED AND HOMEWORKS HAVE TO BE UPLOADED TO ONLY GITHUB. JUST SEND ME YOUR GITHUB ACCOUNT LINK VIA EMAIL. FOR OTHER OPTIONS YOU HAVE TO TALK WITH ME."
   ]
  }
 ],
 "metadata": {
  "kernelspec": {
   "display_name": "Python 3",
   "language": "python",
   "name": "python3"
  },
  "language_info": {
   "codemirror_mode": {
    "name": "ipython",
    "version": 3
   },
   "file_extension": ".py",
   "mimetype": "text/x-python",
   "name": "python",
   "nbconvert_exporter": "python",
   "pygments_lexer": "ipython3",
   "version": "3.6.5"
  }
 },
 "nbformat": 4,
 "nbformat_minor": 2
}
